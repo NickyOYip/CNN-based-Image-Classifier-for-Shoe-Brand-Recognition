{
 "cells": [
  {
   "cell_type": "markdown",
   "metadata": {
    "id": "_R95ehW0rtTP"
   },
   "source": [
    "#*CNN-based Image Classifier for Shoe Brand Recognition*\n",
    "\n",
    "---\n",
    "\n"
   ]
  },
  {
   "cell_type": "code",
   "execution_count": 1,
   "metadata": {
    "colab": {
     "base_uri": "https://localhost:8080/"
    },
    "id": "y2kC2UAj6BKq",
    "outputId": "0ba179a8-dc79-4a38-caad-6100575fc684"
   },
   "outputs": [
    {
     "name": "stdout",
     "output_type": "stream",
     "text": [
      "Mounted at /content/drive\n"
     ]
    }
   ],
   "source": [
    "from google.colab import drive\n",
    "drive.mount('/content/drive')"
   ]
  },
  {
   "cell_type": "code",
   "execution_count": 2,
   "metadata": {
    "id": "zdFwJ-sjYmQ6"
   },
   "outputs": [],
   "source": [
    "import matplotlib.pyplot as plt\n",
    "import numpy as np\n",
    "import PIL\n",
    "import tensorflow as tf\n",
    "from tensorflow import keras\n",
    "from tensorflow.keras import layers\n",
    "from tensorflow.keras.models import Sequential\n",
    "\n"
   ]
  },
  {
   "cell_type": "markdown",
   "metadata": {
    "id": "GqmBHKTBLpiw"
   },
   "source": [
    "##Data Processing\n"
   ]
  },
  {
   "cell_type": "code",
   "execution_count": 3,
   "metadata": {
    "colab": {
     "base_uri": "https://localhost:8080/"
    },
    "id": "k5E_v9dpjnVZ",
    "outputId": "8d59d39f-eb85-4a47-a2cd-0374bcabec55"
   },
   "outputs": [
    {
     "name": "stdout",
     "output_type": "stream",
     "text": [
      "Found 603 images belonging to 3 classes.\n"
     ]
    }
   ],
   "source": [
    "import pathlib\n",
    "import tensorflow as tf\n",
    "from tensorflow.keras.preprocessing.image import ImageDataGenerator\n",
    "\n",
    "data_dir = pathlib.Path('/content/drive/MyDrive/Nike_Adidas_converse_Shoes_image_dataset/train/')\n",
    "\n",
    "image_size = (240, 240) # set the size of the pigure\n",
    "batch_size = 32  # size of mini batch\n",
    "\n",
    "\n",
    "datagen = ImageDataGenerator(\n",
    "    rescale=1./255,  # Normalize the images\n",
    "    rotation_range=15,  # Randomly rotate images by up to 30 degrees\n",
    "    zoom_range=[0.9, 1.1],\n",
    "    brightness_range=[0.8, 1.2],\n",
    "    horizontal_flip=True,  # Randomly flip images horizontally\n",
    ")\n",
    "\n",
    "\n",
    "# Create the dataloader for trianing\n",
    "train_data_gen = datagen.flow_from_directory(\n",
    "    data_dir,\n",
    "    target_size=image_size,\n",
    "    batch_size=batch_size,\n",
    "    class_mode='categorical',\n",
    "    subset= None\n",
    ")"
   ]
  },
  {
   "cell_type": "code",
   "execution_count": 4,
   "metadata": {
    "colab": {
     "base_uri": "https://localhost:8080/"
    },
    "id": "s_uNDZKaks0b",
    "outputId": "19dab0cb-7ca3-4746-c29e-b73771a05e31"
   },
   "outputs": [
    {
     "name": "stdout",
     "output_type": "stream",
     "text": [
      "Found 90 images belonging to 3 classes.\n"
     ]
    }
   ],
   "source": [
    "# The same as the code in the previous block, just change the path for validation data\n",
    "# I am not going to explain it again\n",
    "data_dir = pathlib.Path('/content/drive/MyDrive/Nike_Adidas_converse_Shoes_image_dataset/validate')\n",
    "\n",
    "image_size = (240, 240)\n",
    "batch_size = 32\n",
    "\n",
    "datagen = ImageDataGenerator(rescale=1./255)\n",
    "\n",
    "validate_data_gen = datagen.flow_from_directory(\n",
    "    data_dir,\n",
    "    target_size=image_size,\n",
    "    batch_size=batch_size,\n",
    "    class_mode='categorical',\n",
    "    subset= None\n",
    ")"
   ]
  },
  {
   "cell_type": "markdown",
   "metadata": {
    "id": "R_ELtJ0DL3cW"
   },
   "source": [
    "##Custom early stop(overfitting)"
   ]
  },
  {
   "cell_type": "code",
   "execution_count": null,
   "metadata": {
    "id": "TwkbkWmaNggJ"
   },
   "outputs": [],
   "source": [
    "import tensorflow as tf\n",
    "from tensorflow.keras.callbacks import Callback\n",
    "\n",
    "# 自定義回調類，監控 val_loss - loss\n",
    "class CustomEarlyStopping(Callback):\n",
    "    def __init__(self, threshold=0.2):\n",
    "        super(CustomEarlyStopping, self).__init__()\n",
    "        self.threshold = threshold  # 設置差值閾值\n",
    "\n",
    "    def on_epoch_end(self, epoch, logs=None):\n",
    "        # 從 logs 中獲取 loss 和 val_loss\n",
    "        loss = logs.get('loss')\n",
    "        val_loss = logs.get('val_loss')\n",
    "\n",
    "        # 確保 loss 和 val_loss 存在\n",
    "        if loss is None or val_loss is None:\n",
    "            print(\"警告：無法獲取 loss 或 val_loss，請檢查模型編譯是否包含損失指標\")\n",
    "            return\n",
    "\n",
    "        # 計算差值\n",
    "        diff = val_loss - loss\n",
    "        print(f\"Epoch {epoch + 1}: val_loss - loss = {diff:.4f}\")\n",
    "\n",
    "        # 檢查是否滿足停止條件\n",
    "        if diff > self.threshold:\n",
    "            print(f\"val_loss - loss 大於 {self.threshold}，停止訓練\")\n",
    "            self.model.stop_training = True"
   ]
  },
  {
   "cell_type": "markdown",
   "metadata": {
    "id": "GmTRTJ-1ML6U"
   },
   "source": [
    "## Trainag + output training hypram & result to xlsx"
   ]
  },
  {
   "cell_type": "code",
   "execution_count": 57,
   "metadata": {
    "colab": {
     "base_uri": "https://localhost:8080/",
     "height": 1000
    },
    "id": "IncifGe3MevC",
    "outputId": "abb7d378-85f2-489f-9ca3-b001b5ff2434"
   },
   "outputs": [
    {
     "data": {
      "text/html": [
       "<pre style=\"white-space:pre;overflow-x:auto;line-height:normal;font-family:Menlo,'DejaVu Sans Mono',consolas,'Courier New',monospace\"><span style=\"font-weight: bold\">Model: \"sequential_24\"</span>\n",
       "</pre>\n"
      ],
      "text/plain": [
       "\u001b[1mModel: \"sequential_24\"\u001b[0m\n"
      ]
     },
     "metadata": {},
     "output_type": "display_data"
    },
    {
     "data": {
      "text/html": [
       "<pre style=\"white-space:pre;overflow-x:auto;line-height:normal;font-family:Menlo,'DejaVu Sans Mono',consolas,'Courier New',monospace\">┏━━━━━━━━━━━━━━━━━━━━━━━━━━━━━━━━━┳━━━━━━━━━━━━━━━━━━━━━━━━┳━━━━━━━━━━━━━━━┓\n",
       "┃<span style=\"font-weight: bold\"> Layer (type)                    </span>┃<span style=\"font-weight: bold\"> Output Shape           </span>┃<span style=\"font-weight: bold\">       Param # </span>┃\n",
       "┡━━━━━━━━━━━━━━━━━━━━━━━━━━━━━━━━━╇━━━━━━━━━━━━━━━━━━━━━━━━╇━━━━━━━━━━━━━━━┩\n",
       "│ conv2d_89 (<span style=\"color: #0087ff; text-decoration-color: #0087ff\">Conv2D</span>)              │ (<span style=\"color: #00d7ff; text-decoration-color: #00d7ff\">None</span>, <span style=\"color: #00af00; text-decoration-color: #00af00\">240</span>, <span style=\"color: #00af00; text-decoration-color: #00af00\">240</span>, <span style=\"color: #00af00; text-decoration-color: #00af00\">16</span>)   │           <span style=\"color: #00af00; text-decoration-color: #00af00\">448</span> │\n",
       "├─────────────────────────────────┼────────────────────────┼───────────────┤\n",
       "│ max_pooling2d_55 (<span style=\"color: #0087ff; text-decoration-color: #0087ff\">MaxPooling2D</span>) │ (<span style=\"color: #00d7ff; text-decoration-color: #00d7ff\">None</span>, <span style=\"color: #00af00; text-decoration-color: #00af00\">120</span>, <span style=\"color: #00af00; text-decoration-color: #00af00\">120</span>, <span style=\"color: #00af00; text-decoration-color: #00af00\">16</span>)   │             <span style=\"color: #00af00; text-decoration-color: #00af00\">0</span> │\n",
       "├─────────────────────────────────┼────────────────────────┼───────────────┤\n",
       "│ conv2d_90 (<span style=\"color: #0087ff; text-decoration-color: #0087ff\">Conv2D</span>)              │ (<span style=\"color: #00d7ff; text-decoration-color: #00d7ff\">None</span>, <span style=\"color: #00af00; text-decoration-color: #00af00\">120</span>, <span style=\"color: #00af00; text-decoration-color: #00af00\">120</span>, <span style=\"color: #00af00; text-decoration-color: #00af00\">32</span>)   │         <span style=\"color: #00af00; text-decoration-color: #00af00\">8,224</span> │\n",
       "├─────────────────────────────────┼────────────────────────┼───────────────┤\n",
       "│ max_pooling2d_56 (<span style=\"color: #0087ff; text-decoration-color: #0087ff\">MaxPooling2D</span>) │ (<span style=\"color: #00d7ff; text-decoration-color: #00d7ff\">None</span>, <span style=\"color: #00af00; text-decoration-color: #00af00\">30</span>, <span style=\"color: #00af00; text-decoration-color: #00af00\">30</span>, <span style=\"color: #00af00; text-decoration-color: #00af00\">32</span>)     │             <span style=\"color: #00af00; text-decoration-color: #00af00\">0</span> │\n",
       "├─────────────────────────────────┼────────────────────────┼───────────────┤\n",
       "│ conv2d_91 (<span style=\"color: #0087ff; text-decoration-color: #0087ff\">Conv2D</span>)              │ (<span style=\"color: #00d7ff; text-decoration-color: #00d7ff\">None</span>, <span style=\"color: #00af00; text-decoration-color: #00af00\">30</span>, <span style=\"color: #00af00; text-decoration-color: #00af00\">30</span>, <span style=\"color: #00af00; text-decoration-color: #00af00\">64</span>)     │        <span style=\"color: #00af00; text-decoration-color: #00af00\">51,264</span> │\n",
       "├─────────────────────────────────┼────────────────────────┼───────────────┤\n",
       "│ max_pooling2d_57 (<span style=\"color: #0087ff; text-decoration-color: #0087ff\">MaxPooling2D</span>) │ (<span style=\"color: #00d7ff; text-decoration-color: #00d7ff\">None</span>, <span style=\"color: #00af00; text-decoration-color: #00af00\">6</span>, <span style=\"color: #00af00; text-decoration-color: #00af00\">6</span>, <span style=\"color: #00af00; text-decoration-color: #00af00\">64</span>)       │             <span style=\"color: #00af00; text-decoration-color: #00af00\">0</span> │\n",
       "├─────────────────────────────────┼────────────────────────┼───────────────┤\n",
       "│ dropout_46 (<span style=\"color: #0087ff; text-decoration-color: #0087ff\">Dropout</span>)            │ (<span style=\"color: #00d7ff; text-decoration-color: #00d7ff\">None</span>, <span style=\"color: #00af00; text-decoration-color: #00af00\">6</span>, <span style=\"color: #00af00; text-decoration-color: #00af00\">6</span>, <span style=\"color: #00af00; text-decoration-color: #00af00\">64</span>)       │             <span style=\"color: #00af00; text-decoration-color: #00af00\">0</span> │\n",
       "├─────────────────────────────────┼────────────────────────┼───────────────┤\n",
       "│ flatten_23 (<span style=\"color: #0087ff; text-decoration-color: #0087ff\">Flatten</span>)            │ (<span style=\"color: #00d7ff; text-decoration-color: #00d7ff\">None</span>, <span style=\"color: #00af00; text-decoration-color: #00af00\">2304</span>)           │             <span style=\"color: #00af00; text-decoration-color: #00af00\">0</span> │\n",
       "├─────────────────────────────────┼────────────────────────┼───────────────┤\n",
       "│ dense_46 (<span style=\"color: #0087ff; text-decoration-color: #0087ff\">Dense</span>)                │ (<span style=\"color: #00d7ff; text-decoration-color: #00d7ff\">None</span>, <span style=\"color: #00af00; text-decoration-color: #00af00\">128</span>)            │       <span style=\"color: #00af00; text-decoration-color: #00af00\">295,040</span> │\n",
       "├─────────────────────────────────┼────────────────────────┼───────────────┤\n",
       "│ dropout_47 (<span style=\"color: #0087ff; text-decoration-color: #0087ff\">Dropout</span>)            │ (<span style=\"color: #00d7ff; text-decoration-color: #00d7ff\">None</span>, <span style=\"color: #00af00; text-decoration-color: #00af00\">128</span>)            │             <span style=\"color: #00af00; text-decoration-color: #00af00\">0</span> │\n",
       "├─────────────────────────────────┼────────────────────────┼───────────────┤\n",
       "│ dense_47 (<span style=\"color: #0087ff; text-decoration-color: #0087ff\">Dense</span>)                │ (<span style=\"color: #00d7ff; text-decoration-color: #00d7ff\">None</span>, <span style=\"color: #00af00; text-decoration-color: #00af00\">3</span>)              │           <span style=\"color: #00af00; text-decoration-color: #00af00\">387</span> │\n",
       "└─────────────────────────────────┴────────────────────────┴───────────────┘\n",
       "</pre>\n"
      ],
      "text/plain": [
       "┏━━━━━━━━━━━━━━━━━━━━━━━━━━━━━━━━━┳━━━━━━━━━━━━━━━━━━━━━━━━┳━━━━━━━━━━━━━━━┓\n",
       "┃\u001b[1m \u001b[0m\u001b[1mLayer (type)                   \u001b[0m\u001b[1m \u001b[0m┃\u001b[1m \u001b[0m\u001b[1mOutput Shape          \u001b[0m\u001b[1m \u001b[0m┃\u001b[1m \u001b[0m\u001b[1m      Param #\u001b[0m\u001b[1m \u001b[0m┃\n",
       "┡━━━━━━━━━━━━━━━━━━━━━━━━━━━━━━━━━╇━━━━━━━━━━━━━━━━━━━━━━━━╇━━━━━━━━━━━━━━━┩\n",
       "│ conv2d_89 (\u001b[38;5;33mConv2D\u001b[0m)              │ (\u001b[38;5;45mNone\u001b[0m, \u001b[38;5;34m240\u001b[0m, \u001b[38;5;34m240\u001b[0m, \u001b[38;5;34m16\u001b[0m)   │           \u001b[38;5;34m448\u001b[0m │\n",
       "├─────────────────────────────────┼────────────────────────┼───────────────┤\n",
       "│ max_pooling2d_55 (\u001b[38;5;33mMaxPooling2D\u001b[0m) │ (\u001b[38;5;45mNone\u001b[0m, \u001b[38;5;34m120\u001b[0m, \u001b[38;5;34m120\u001b[0m, \u001b[38;5;34m16\u001b[0m)   │             \u001b[38;5;34m0\u001b[0m │\n",
       "├─────────────────────────────────┼────────────────────────┼───────────────┤\n",
       "│ conv2d_90 (\u001b[38;5;33mConv2D\u001b[0m)              │ (\u001b[38;5;45mNone\u001b[0m, \u001b[38;5;34m120\u001b[0m, \u001b[38;5;34m120\u001b[0m, \u001b[38;5;34m32\u001b[0m)   │         \u001b[38;5;34m8,224\u001b[0m │\n",
       "├─────────────────────────────────┼────────────────────────┼───────────────┤\n",
       "│ max_pooling2d_56 (\u001b[38;5;33mMaxPooling2D\u001b[0m) │ (\u001b[38;5;45mNone\u001b[0m, \u001b[38;5;34m30\u001b[0m, \u001b[38;5;34m30\u001b[0m, \u001b[38;5;34m32\u001b[0m)     │             \u001b[38;5;34m0\u001b[0m │\n",
       "├─────────────────────────────────┼────────────────────────┼───────────────┤\n",
       "│ conv2d_91 (\u001b[38;5;33mConv2D\u001b[0m)              │ (\u001b[38;5;45mNone\u001b[0m, \u001b[38;5;34m30\u001b[0m, \u001b[38;5;34m30\u001b[0m, \u001b[38;5;34m64\u001b[0m)     │        \u001b[38;5;34m51,264\u001b[0m │\n",
       "├─────────────────────────────────┼────────────────────────┼───────────────┤\n",
       "│ max_pooling2d_57 (\u001b[38;5;33mMaxPooling2D\u001b[0m) │ (\u001b[38;5;45mNone\u001b[0m, \u001b[38;5;34m6\u001b[0m, \u001b[38;5;34m6\u001b[0m, \u001b[38;5;34m64\u001b[0m)       │             \u001b[38;5;34m0\u001b[0m │\n",
       "├─────────────────────────────────┼────────────────────────┼───────────────┤\n",
       "│ dropout_46 (\u001b[38;5;33mDropout\u001b[0m)            │ (\u001b[38;5;45mNone\u001b[0m, \u001b[38;5;34m6\u001b[0m, \u001b[38;5;34m6\u001b[0m, \u001b[38;5;34m64\u001b[0m)       │             \u001b[38;5;34m0\u001b[0m │\n",
       "├─────────────────────────────────┼────────────────────────┼───────────────┤\n",
       "│ flatten_23 (\u001b[38;5;33mFlatten\u001b[0m)            │ (\u001b[38;5;45mNone\u001b[0m, \u001b[38;5;34m2304\u001b[0m)           │             \u001b[38;5;34m0\u001b[0m │\n",
       "├─────────────────────────────────┼────────────────────────┼───────────────┤\n",
       "│ dense_46 (\u001b[38;5;33mDense\u001b[0m)                │ (\u001b[38;5;45mNone\u001b[0m, \u001b[38;5;34m128\u001b[0m)            │       \u001b[38;5;34m295,040\u001b[0m │\n",
       "├─────────────────────────────────┼────────────────────────┼───────────────┤\n",
       "│ dropout_47 (\u001b[38;5;33mDropout\u001b[0m)            │ (\u001b[38;5;45mNone\u001b[0m, \u001b[38;5;34m128\u001b[0m)            │             \u001b[38;5;34m0\u001b[0m │\n",
       "├─────────────────────────────────┼────────────────────────┼───────────────┤\n",
       "│ dense_47 (\u001b[38;5;33mDense\u001b[0m)                │ (\u001b[38;5;45mNone\u001b[0m, \u001b[38;5;34m3\u001b[0m)              │           \u001b[38;5;34m387\u001b[0m │\n",
       "└─────────────────────────────────┴────────────────────────┴───────────────┘\n"
      ]
     },
     "metadata": {},
     "output_type": "display_data"
    },
    {
     "data": {
      "text/html": [
       "<pre style=\"white-space:pre;overflow-x:auto;line-height:normal;font-family:Menlo,'DejaVu Sans Mono',consolas,'Courier New',monospace\"><span style=\"font-weight: bold\"> Total params: </span><span style=\"color: #00af00; text-decoration-color: #00af00\">355,363</span> (1.36 MB)\n",
       "</pre>\n"
      ],
      "text/plain": [
       "\u001b[1m Total params: \u001b[0m\u001b[38;5;34m355,363\u001b[0m (1.36 MB)\n"
      ]
     },
     "metadata": {},
     "output_type": "display_data"
    },
    {
     "data": {
      "text/html": [
       "<pre style=\"white-space:pre;overflow-x:auto;line-height:normal;font-family:Menlo,'DejaVu Sans Mono',consolas,'Courier New',monospace\"><span style=\"font-weight: bold\"> Trainable params: </span><span style=\"color: #00af00; text-decoration-color: #00af00\">355,363</span> (1.36 MB)\n",
       "</pre>\n"
      ],
      "text/plain": [
       "\u001b[1m Trainable params: \u001b[0m\u001b[38;5;34m355,363\u001b[0m (1.36 MB)\n"
      ]
     },
     "metadata": {},
     "output_type": "display_data"
    },
    {
     "data": {
      "text/html": [
       "<pre style=\"white-space:pre;overflow-x:auto;line-height:normal;font-family:Menlo,'DejaVu Sans Mono',consolas,'Courier New',monospace\"><span style=\"font-weight: bold\"> Non-trainable params: </span><span style=\"color: #00af00; text-decoration-color: #00af00\">0</span> (0.00 B)\n",
       "</pre>\n"
      ],
      "text/plain": [
       "\u001b[1m Non-trainable params: \u001b[0m\u001b[38;5;34m0\u001b[0m (0.00 B)\n"
      ]
     },
     "metadata": {},
     "output_type": "display_data"
    },
    {
     "name": "stdout",
     "output_type": "stream",
     "text": [
      "Epoch 1/130\n",
      "\u001b[1m19/19\u001b[0m \u001b[32m━━━━━━━━━━━━━━━━━━━━\u001b[0m\u001b[37m\u001b[0m \u001b[1m18s\u001b[0m 714ms/step - accuracy: 0.3245 - loss: 2.6411 - val_accuracy: 0.3333 - val_loss: 2.5208\n",
      "Epoch 2/130\n",
      "\u001b[1m19/19\u001b[0m \u001b[32m━━━━━━━━━━━━━━━━━━━━\u001b[0m\u001b[37m\u001b[0m \u001b[1m9s\u001b[0m 479ms/step - accuracy: 0.3536 - loss: 2.4720 - val_accuracy: 0.4222 - val_loss: 2.3617\n",
      "Epoch 3/130\n",
      "\u001b[1m19/19\u001b[0m \u001b[32m━━━━━━━━━━━━━━━━━━━━\u001b[0m\u001b[37m\u001b[0m \u001b[1m9s\u001b[0m 480ms/step - accuracy: 0.3873 - loss: 2.3351 - val_accuracy: 0.4667 - val_loss: 2.2360\n",
      "Epoch 4/130\n",
      "\u001b[1m19/19\u001b[0m \u001b[32m━━━━━━━━━━━━━━━━━━━━\u001b[0m\u001b[37m\u001b[0m \u001b[1m9s\u001b[0m 482ms/step - accuracy: 0.3895 - loss: 2.2084 - val_accuracy: 0.4444 - val_loss: 2.1210\n",
      "Epoch 5/130\n",
      "\u001b[1m19/19\u001b[0m \u001b[32m━━━━━━━━━━━━━━━━━━━━\u001b[0m\u001b[37m\u001b[0m \u001b[1m9s\u001b[0m 480ms/step - accuracy: 0.4079 - loss: 2.1001 - val_accuracy: 0.4889 - val_loss: 2.0165\n",
      "Epoch 6/130\n",
      "\u001b[1m19/19\u001b[0m \u001b[32m━━━━━━━━━━━━━━━━━━━━\u001b[0m\u001b[37m\u001b[0m \u001b[1m9s\u001b[0m 484ms/step - accuracy: 0.4327 - loss: 1.9982 - val_accuracy: 0.4444 - val_loss: 1.9318\n",
      "Epoch 7/130\n",
      "\u001b[1m19/19\u001b[0m \u001b[32m━━━━━━━━━━━━━━━━━━━━\u001b[0m\u001b[37m\u001b[0m \u001b[1m9s\u001b[0m 479ms/step - accuracy: 0.4474 - loss: 1.9152 - val_accuracy: 0.3778 - val_loss: 1.8571\n",
      "Epoch 8/130\n",
      "\u001b[1m19/19\u001b[0m \u001b[32m━━━━━━━━━━━━━━━━━━━━\u001b[0m\u001b[37m\u001b[0m \u001b[1m9s\u001b[0m 489ms/step - accuracy: 0.4468 - loss: 1.8395 - val_accuracy: 0.5222 - val_loss: 1.7817\n",
      "Epoch 9/130\n",
      "\u001b[1m19/19\u001b[0m \u001b[32m━━━━━━━━━━━━━━━━━━━━\u001b[0m\u001b[37m\u001b[0m \u001b[1m9s\u001b[0m 485ms/step - accuracy: 0.4856 - loss: 1.7692 - val_accuracy: 0.3889 - val_loss: 1.7273\n",
      "Epoch 10/130\n",
      "\u001b[1m19/19\u001b[0m \u001b[32m━━━━━━━━━━━━━━━━━━━━\u001b[0m\u001b[37m\u001b[0m \u001b[1m9s\u001b[0m 478ms/step - accuracy: 0.4355 - loss: 1.7192 - val_accuracy: 0.5000 - val_loss: 1.6679\n",
      "Epoch 11/130\n",
      "\u001b[1m19/19\u001b[0m \u001b[32m━━━━━━━━━━━━━━━━━━━━\u001b[0m\u001b[37m\u001b[0m \u001b[1m9s\u001b[0m 487ms/step - accuracy: 0.5132 - loss: 1.6597 - val_accuracy: 0.4889 - val_loss: 1.6175\n",
      "Epoch 12/130\n",
      "\u001b[1m19/19\u001b[0m \u001b[32m━━━━━━━━━━━━━━━━━━━━\u001b[0m\u001b[37m\u001b[0m \u001b[1m9s\u001b[0m 483ms/step - accuracy: 0.4566 - loss: 1.6251 - val_accuracy: 0.4778 - val_loss: 1.5944\n",
      "Epoch 13/130\n",
      "\u001b[1m19/19\u001b[0m \u001b[32m━━━━━━━━━━━━━━━━━━━━\u001b[0m\u001b[37m\u001b[0m \u001b[1m9s\u001b[0m 485ms/step - accuracy: 0.4817 - loss: 1.6038 - val_accuracy: 0.5333 - val_loss: 1.5483\n",
      "Epoch 14/130\n",
      "\u001b[1m19/19\u001b[0m \u001b[32m━━━━━━━━━━━━━━━━━━━━\u001b[0m\u001b[37m\u001b[0m \u001b[1m9s\u001b[0m 474ms/step - accuracy: 0.5020 - loss: 1.5548 - val_accuracy: 0.5000 - val_loss: 1.5117\n",
      "Epoch 15/130\n",
      "\u001b[1m19/19\u001b[0m \u001b[32m━━━━━━━━━━━━━━━━━━━━\u001b[0m\u001b[37m\u001b[0m \u001b[1m9s\u001b[0m 477ms/step - accuracy: 0.4976 - loss: 1.5214 - val_accuracy: 0.5111 - val_loss: 1.4772\n",
      "Epoch 16/130\n",
      "\u001b[1m19/19\u001b[0m \u001b[32m━━━━━━━━━━━━━━━━━━━━\u001b[0m\u001b[37m\u001b[0m \u001b[1m9s\u001b[0m 488ms/step - accuracy: 0.5167 - loss: 1.4794 - val_accuracy: 0.4556 - val_loss: 1.4682\n",
      "Epoch 17/130\n",
      "\u001b[1m19/19\u001b[0m \u001b[32m━━━━━━━━━━━━━━━━━━━━\u001b[0m\u001b[37m\u001b[0m \u001b[1m9s\u001b[0m 486ms/step - accuracy: 0.4934 - loss: 1.4816 - val_accuracy: 0.5444 - val_loss: 1.4412\n",
      "Epoch 18/130\n",
      "\u001b[1m19/19\u001b[0m \u001b[32m━━━━━━━━━━━━━━━━━━━━\u001b[0m\u001b[37m\u001b[0m \u001b[1m9s\u001b[0m 482ms/step - accuracy: 0.5255 - loss: 1.4266 - val_accuracy: 0.5222 - val_loss: 1.4080\n",
      "Epoch 19/130\n",
      "\u001b[1m19/19\u001b[0m \u001b[32m━━━━━━━━━━━━━━━━━━━━\u001b[0m\u001b[37m\u001b[0m \u001b[1m9s\u001b[0m 489ms/step - accuracy: 0.4809 - loss: 1.4341 - val_accuracy: 0.4889 - val_loss: 1.4046\n",
      "Epoch 20/130\n",
      "\u001b[1m19/19\u001b[0m \u001b[32m━━━━━━━━━━━━━━━━━━━━\u001b[0m\u001b[37m\u001b[0m \u001b[1m9s\u001b[0m 481ms/step - accuracy: 0.5028 - loss: 1.4176 - val_accuracy: 0.4778 - val_loss: 1.4171\n",
      "Epoch 21/130\n",
      "\u001b[1m19/19\u001b[0m \u001b[32m━━━━━━━━━━━━━━━━━━━━\u001b[0m\u001b[37m\u001b[0m \u001b[1m9s\u001b[0m 483ms/step - accuracy: 0.4868 - loss: 1.3898 - val_accuracy: 0.4889 - val_loss: 1.3956\n",
      "Epoch 22/130\n",
      "\u001b[1m19/19\u001b[0m \u001b[32m━━━━━━━━━━━━━━━━━━━━\u001b[0m\u001b[37m\u001b[0m \u001b[1m9s\u001b[0m 488ms/step - accuracy: 0.5297 - loss: 1.3784 - val_accuracy: 0.5333 - val_loss: 1.3305\n",
      "Epoch 23/130\n",
      "\u001b[1m19/19\u001b[0m \u001b[32m━━━━━━━━━━━━━━━━━━━━\u001b[0m\u001b[37m\u001b[0m \u001b[1m9s\u001b[0m 482ms/step - accuracy: 0.5665 - loss: 1.3319 - val_accuracy: 0.6000 - val_loss: 1.3002\n",
      "Epoch 24/130\n",
      "\u001b[1m19/19\u001b[0m \u001b[32m━━━━━━━━━━━━━━━━━━━━\u001b[0m\u001b[37m\u001b[0m \u001b[1m9s\u001b[0m 486ms/step - accuracy: 0.6022 - loss: 1.2734 - val_accuracy: 0.5222 - val_loss: 1.3156\n",
      "Epoch 25/130\n",
      "\u001b[1m19/19\u001b[0m \u001b[32m━━━━━━━━━━━━━━━━━━━━\u001b[0m\u001b[37m\u001b[0m \u001b[1m9s\u001b[0m 490ms/step - accuracy: 0.5711 - loss: 1.2907 - val_accuracy: 0.6111 - val_loss: 1.2692\n",
      "Epoch 26/130\n",
      "\u001b[1m19/19\u001b[0m \u001b[32m━━━━━━━━━━━━━━━━━━━━\u001b[0m\u001b[37m\u001b[0m \u001b[1m9s\u001b[0m 486ms/step - accuracy: 0.5866 - loss: 1.2486 - val_accuracy: 0.5889 - val_loss: 1.2637\n",
      "Epoch 27/130\n",
      "\u001b[1m19/19\u001b[0m \u001b[32m━━━━━━━━━━━━━━━━━━━━\u001b[0m\u001b[37m\u001b[0m \u001b[1m9s\u001b[0m 489ms/step - accuracy: 0.5810 - loss: 1.2352 - val_accuracy: 0.6222 - val_loss: 1.2100\n",
      "Epoch 28/130\n",
      "\u001b[1m19/19\u001b[0m \u001b[32m━━━━━━━━━━━━━━━━━━━━\u001b[0m\u001b[37m\u001b[0m \u001b[1m9s\u001b[0m 480ms/step - accuracy: 0.6047 - loss: 1.2153 - val_accuracy: 0.6444 - val_loss: 1.1884\n",
      "Epoch 29/130\n",
      "\u001b[1m19/19\u001b[0m \u001b[32m━━━━━━━━━━━━━━━━━━━━\u001b[0m\u001b[37m\u001b[0m \u001b[1m9s\u001b[0m 486ms/step - accuracy: 0.6010 - loss: 1.2129 - val_accuracy: 0.5778 - val_loss: 1.2120\n",
      "Epoch 30/130\n",
      "\u001b[1m19/19\u001b[0m \u001b[32m━━━━━━━━━━━━━━━━━━━━\u001b[0m\u001b[37m\u001b[0m \u001b[1m9s\u001b[0m 488ms/step - accuracy: 0.6219 - loss: 1.1928 - val_accuracy: 0.5556 - val_loss: 1.2153\n",
      "Epoch 31/130\n",
      "\u001b[1m19/19\u001b[0m \u001b[32m━━━━━━━━━━━━━━━━━━━━\u001b[0m\u001b[37m\u001b[0m \u001b[1m9s\u001b[0m 481ms/step - accuracy: 0.5679 - loss: 1.2399 - val_accuracy: 0.5778 - val_loss: 1.1970\n",
      "Epoch 32/130\n",
      "\u001b[1m19/19\u001b[0m \u001b[32m━━━━━━━━━━━━━━━━━━━━\u001b[0m\u001b[37m\u001b[0m \u001b[1m9s\u001b[0m 484ms/step - accuracy: 0.6309 - loss: 1.1464 - val_accuracy: 0.6556 - val_loss: 1.1395\n",
      "Epoch 33/130\n",
      "\u001b[1m19/19\u001b[0m \u001b[32m━━━━━━━━━━━━━━━━━━━━\u001b[0m\u001b[37m\u001b[0m \u001b[1m9s\u001b[0m 480ms/step - accuracy: 0.6465 - loss: 1.1374 - val_accuracy: 0.6000 - val_loss: 1.1309\n",
      "Epoch 34/130\n",
      "\u001b[1m19/19\u001b[0m \u001b[32m━━━━━━━━━━━━━━━━━━━━\u001b[0m\u001b[37m\u001b[0m \u001b[1m9s\u001b[0m 486ms/step - accuracy: 0.6404 - loss: 1.0815 - val_accuracy: 0.5889 - val_loss: 1.1780\n",
      "Epoch 35/130\n",
      "\u001b[1m19/19\u001b[0m \u001b[32m━━━━━━━━━━━━━━━━━━━━\u001b[0m\u001b[37m\u001b[0m \u001b[1m9s\u001b[0m 482ms/step - accuracy: 0.6285 - loss: 1.1348 - val_accuracy: 0.6333 - val_loss: 1.1352\n",
      "Epoch 36/130\n",
      "\u001b[1m19/19\u001b[0m \u001b[32m━━━━━━━━━━━━━━━━━━━━\u001b[0m\u001b[37m\u001b[0m \u001b[1m9s\u001b[0m 486ms/step - accuracy: 0.6529 - loss: 1.0970 - val_accuracy: 0.6111 - val_loss: 1.1091\n",
      "Epoch 37/130\n",
      "\u001b[1m19/19\u001b[0m \u001b[32m━━━━━━━━━━━━━━━━━━━━\u001b[0m\u001b[37m\u001b[0m \u001b[1m9s\u001b[0m 476ms/step - accuracy: 0.6830 - loss: 1.0446 - val_accuracy: 0.5111 - val_loss: 1.2641\n",
      "Epoch 38/130\n",
      "\u001b[1m19/19\u001b[0m \u001b[32m━━━━━━━━━━━━━━━━━━━━\u001b[0m\u001b[37m\u001b[0m \u001b[1m9s\u001b[0m 487ms/step - accuracy: 0.6184 - loss: 1.0955 - val_accuracy: 0.6333 - val_loss: 1.0888\n",
      "Epoch 39/130\n",
      "\u001b[1m19/19\u001b[0m \u001b[32m━━━━━━━━━━━━━━━━━━━━\u001b[0m\u001b[37m\u001b[0m \u001b[1m9s\u001b[0m 485ms/step - accuracy: 0.7002 - loss: 1.0550 - val_accuracy: 0.6111 - val_loss: 1.1458\n",
      "Epoch 40/130\n",
      "\u001b[1m19/19\u001b[0m \u001b[32m━━━━━━━━━━━━━━━━━━━━\u001b[0m\u001b[37m\u001b[0m \u001b[1m9s\u001b[0m 489ms/step - accuracy: 0.6570 - loss: 1.0548 - val_accuracy: 0.6000 - val_loss: 1.1165\n",
      "Epoch 41/130\n",
      "\u001b[1m19/19\u001b[0m \u001b[32m━━━━━━━━━━━━━━━━━━━━\u001b[0m\u001b[37m\u001b[0m \u001b[1m9s\u001b[0m 483ms/step - accuracy: 0.7064 - loss: 0.9664 - val_accuracy: 0.6778 - val_loss: 1.0603\n",
      "Epoch 42/130\n",
      "\u001b[1m19/19\u001b[0m \u001b[32m━━━━━━━━━━━━━━━━━━━━\u001b[0m\u001b[37m\u001b[0m \u001b[1m9s\u001b[0m 488ms/step - accuracy: 0.6882 - loss: 1.0105 - val_accuracy: 0.6222 - val_loss: 1.0904\n",
      "Epoch 43/130\n",
      "\u001b[1m19/19\u001b[0m \u001b[32m━━━━━━━━━━━━━━━━━━━━\u001b[0m\u001b[37m\u001b[0m \u001b[1m9s\u001b[0m 484ms/step - accuracy: 0.7088 - loss: 0.9857 - val_accuracy: 0.6889 - val_loss: 1.0727\n",
      "Epoch 44/130\n",
      "\u001b[1m19/19\u001b[0m \u001b[32m━━━━━━━━━━━━━━━━━━━━\u001b[0m\u001b[37m\u001b[0m \u001b[1m9s\u001b[0m 481ms/step - accuracy: 0.7322 - loss: 0.9496 - val_accuracy: 0.6333 - val_loss: 1.0727\n",
      "Epoch 45/130\n",
      "\u001b[1m19/19\u001b[0m \u001b[32m━━━━━━━━━━━━━━━━━━━━\u001b[0m\u001b[37m\u001b[0m \u001b[1m9s\u001b[0m 482ms/step - accuracy: 0.6633 - loss: 1.0301 - val_accuracy: 0.6778 - val_loss: 1.0984\n",
      "Epoch 46/130\n",
      "\u001b[1m19/19\u001b[0m \u001b[32m━━━━━━━━━━━━━━━━━━━━\u001b[0m\u001b[37m\u001b[0m \u001b[1m9s\u001b[0m 476ms/step - accuracy: 0.7167 - loss: 1.0187 - val_accuracy: 0.6778 - val_loss: 1.0651\n",
      "Epoch 47/130\n",
      "\u001b[1m19/19\u001b[0m \u001b[32m━━━━━━━━━━━━━━━━━━━━\u001b[0m\u001b[37m\u001b[0m \u001b[1m9s\u001b[0m 482ms/step - accuracy: 0.6794 - loss: 1.0178 - val_accuracy: 0.6333 - val_loss: 1.0855\n",
      "Epoch 48/130\n",
      "\u001b[1m19/19\u001b[0m \u001b[32m━━━━━━━━━━━━━━━━━━━━\u001b[0m\u001b[37m\u001b[0m \u001b[1m9s\u001b[0m 485ms/step - accuracy: 0.7216 - loss: 0.9519 - val_accuracy: 0.6667 - val_loss: 1.0455\n",
      "Epoch 49/130\n",
      "\u001b[1m19/19\u001b[0m \u001b[32m━━━━━━━━━━━━━━━━━━━━\u001b[0m\u001b[37m\u001b[0m \u001b[1m9s\u001b[0m 486ms/step - accuracy: 0.7045 - loss: 0.9567 - val_accuracy: 0.7000 - val_loss: 1.0438\n",
      "Epoch 50/130\n",
      "\u001b[1m19/19\u001b[0m \u001b[32m━━━━━━━━━━━━━━━━━━━━\u001b[0m\u001b[37m\u001b[0m \u001b[1m9s\u001b[0m 481ms/step - accuracy: 0.6901 - loss: 0.9628 - val_accuracy: 0.6556 - val_loss: 1.0619\n",
      "Epoch 51/130\n",
      "\u001b[1m19/19\u001b[0m \u001b[32m━━━━━━━━━━━━━━━━━━━━\u001b[0m\u001b[37m\u001b[0m \u001b[1m9s\u001b[0m 481ms/step - accuracy: 0.7193 - loss: 0.9305 - val_accuracy: 0.6889 - val_loss: 1.0192\n",
      "Epoch 52/130\n",
      "\u001b[1m19/19\u001b[0m \u001b[32m━━━━━━━━━━━━━━━━━━━━\u001b[0m\u001b[37m\u001b[0m \u001b[1m9s\u001b[0m 482ms/step - accuracy: 0.7346 - loss: 0.9236 - val_accuracy: 0.6889 - val_loss: 1.0324\n",
      "Epoch 53/130\n",
      "\u001b[1m19/19\u001b[0m \u001b[32m━━━━━━━━━━━━━━━━━━━━\u001b[0m\u001b[37m\u001b[0m \u001b[1m9s\u001b[0m 481ms/step - accuracy: 0.7152 - loss: 0.9205 - val_accuracy: 0.7333 - val_loss: 1.0029\n",
      "Epoch 54/130\n",
      "\u001b[1m19/19\u001b[0m \u001b[32m━━━━━━━━━━━━━━━━━━━━\u001b[0m\u001b[37m\u001b[0m \u001b[1m9s\u001b[0m 485ms/step - accuracy: 0.7619 - loss: 0.8601 - val_accuracy: 0.7111 - val_loss: 1.0190\n",
      "Epoch 55/130\n",
      "\u001b[1m19/19\u001b[0m \u001b[32m━━━━━━━━━━━━━━━━━━━━\u001b[0m\u001b[37m\u001b[0m \u001b[1m9s\u001b[0m 486ms/step - accuracy: 0.7461 - loss: 0.8972 - val_accuracy: 0.6556 - val_loss: 1.0597\n",
      "Epoch 56/130\n",
      "\u001b[1m19/19\u001b[0m \u001b[32m━━━━━━━━━━━━━━━━━━━━\u001b[0m\u001b[37m\u001b[0m \u001b[1m9s\u001b[0m 489ms/step - accuracy: 0.7245 - loss: 0.9074 - val_accuracy: 0.7111 - val_loss: 0.9840\n",
      "Epoch 57/130\n",
      "\u001b[1m19/19\u001b[0m \u001b[32m━━━━━━━━━━━━━━━━━━━━\u001b[0m\u001b[37m\u001b[0m \u001b[1m9s\u001b[0m 489ms/step - accuracy: 0.7498 - loss: 0.8551 - val_accuracy: 0.7000 - val_loss: 1.0799\n",
      "Epoch 58/130\n",
      "\u001b[1m19/19\u001b[0m \u001b[32m━━━━━━━━━━━━━━━━━━━━\u001b[0m\u001b[37m\u001b[0m \u001b[1m9s\u001b[0m 486ms/step - accuracy: 0.7709 - loss: 0.8243 - val_accuracy: 0.6333 - val_loss: 1.0593\n",
      "Epoch 59/130\n",
      "\u001b[1m19/19\u001b[0m \u001b[32m━━━━━━━━━━━━━━━━━━━━\u001b[0m\u001b[37m\u001b[0m \u001b[1m10s\u001b[0m 503ms/step - accuracy: 0.7792 - loss: 0.8384 - val_accuracy: 0.7111 - val_loss: 0.9980\n",
      "Epoch 60/130\n",
      "\u001b[1m19/19\u001b[0m \u001b[32m━━━━━━━━━━━━━━━━━━━━\u001b[0m\u001b[37m\u001b[0m \u001b[1m9s\u001b[0m 485ms/step - accuracy: 0.7242 - loss: 0.9184 - val_accuracy: 0.6667 - val_loss: 1.0712\n",
      "Epoch 61/130\n",
      "\u001b[1m19/19\u001b[0m \u001b[32m━━━━━━━━━━━━━━━━━━━━\u001b[0m\u001b[37m\u001b[0m \u001b[1m9s\u001b[0m 483ms/step - accuracy: 0.6932 - loss: 0.9634 - val_accuracy: 0.6556 - val_loss: 1.0227\n",
      "Epoch 62/130\n",
      "\u001b[1m19/19\u001b[0m \u001b[32m━━━━━━━━━━━━━━━━━━━━\u001b[0m\u001b[37m\u001b[0m \u001b[1m9s\u001b[0m 490ms/step - accuracy: 0.7610 - loss: 0.8805 - val_accuracy: 0.6778 - val_loss: 0.9924\n",
      "Epoch 63/130\n",
      "\u001b[1m19/19\u001b[0m \u001b[32m━━━━━━━━━━━━━━━━━━━━\u001b[0m\u001b[37m\u001b[0m \u001b[1m9s\u001b[0m 484ms/step - accuracy: 0.7781 - loss: 0.8224 - val_accuracy: 0.7000 - val_loss: 0.9721\n",
      "Epoch 64/130\n",
      "\u001b[1m19/19\u001b[0m \u001b[32m━━━━━━━━━━━━━━━━━━━━\u001b[0m\u001b[37m\u001b[0m \u001b[1m9s\u001b[0m 486ms/step - accuracy: 0.7729 - loss: 0.8442 - val_accuracy: 0.6889 - val_loss: 0.9738\n",
      "Epoch 65/130\n",
      "\u001b[1m19/19\u001b[0m \u001b[32m━━━━━━━━━━━━━━━━━━━━\u001b[0m\u001b[37m\u001b[0m \u001b[1m9s\u001b[0m 487ms/step - accuracy: 0.7864 - loss: 0.7876 - val_accuracy: 0.6778 - val_loss: 1.1134\n",
      "Epoch 66/130\n",
      "\u001b[1m19/19\u001b[0m \u001b[32m━━━━━━━━━━━━━━━━━━━━\u001b[0m\u001b[37m\u001b[0m \u001b[1m9s\u001b[0m 490ms/step - accuracy: 0.7750 - loss: 0.8017 - val_accuracy: 0.7111 - val_loss: 0.9595\n",
      "Epoch 67/130\n",
      "\u001b[1m19/19\u001b[0m \u001b[32m━━━━━━━━━━━━━━━━━━━━\u001b[0m\u001b[37m\u001b[0m \u001b[1m9s\u001b[0m 491ms/step - accuracy: 0.7699 - loss: 0.8104 - val_accuracy: 0.7000 - val_loss: 0.9625\n",
      "Epoch 68/130\n",
      "\u001b[1m19/19\u001b[0m \u001b[32m━━━━━━━━━━━━━━━━━━━━\u001b[0m\u001b[37m\u001b[0m \u001b[1m9s\u001b[0m 489ms/step - accuracy: 0.7639 - loss: 0.8231 - val_accuracy: 0.7000 - val_loss: 0.9626\n",
      "Epoch 69/130\n",
      "\u001b[1m19/19\u001b[0m \u001b[32m━━━━━━━━━━━━━━━━━━━━\u001b[0m\u001b[37m\u001b[0m \u001b[1m9s\u001b[0m 490ms/step - accuracy: 0.7795 - loss: 0.8115 - val_accuracy: 0.7111 - val_loss: 0.9744\n",
      "Epoch 70/130\n",
      "\u001b[1m19/19\u001b[0m \u001b[32m━━━━━━━━━━━━━━━━━━━━\u001b[0m\u001b[37m\u001b[0m \u001b[1m9s\u001b[0m 484ms/step - accuracy: 0.7314 - loss: 0.8356 - val_accuracy: 0.6667 - val_loss: 0.9669\n",
      "Epoch 71/130\n",
      "\u001b[1m19/19\u001b[0m \u001b[32m━━━━━━━━━━━━━━━━━━━━\u001b[0m\u001b[37m\u001b[0m \u001b[1m9s\u001b[0m 488ms/step - accuracy: 0.7602 - loss: 0.8042 - val_accuracy: 0.6778 - val_loss: 1.0686\n",
      "Epoch 72/130\n",
      "\u001b[1m19/19\u001b[0m \u001b[32m━━━━━━━━━━━━━━━━━━━━\u001b[0m\u001b[37m\u001b[0m \u001b[1m9s\u001b[0m 485ms/step - accuracy: 0.7785 - loss: 0.8157 - val_accuracy: 0.7111 - val_loss: 0.9561\n",
      "Epoch 73/130\n",
      "\u001b[1m19/19\u001b[0m \u001b[32m━━━━━━━━━━━━━━━━━━━━\u001b[0m\u001b[37m\u001b[0m \u001b[1m9s\u001b[0m 485ms/step - accuracy: 0.7590 - loss: 0.8066 - val_accuracy: 0.7111 - val_loss: 0.9555\n",
      "Epoch 74/130\n",
      "\u001b[1m19/19\u001b[0m \u001b[32m━━━━━━━━━━━━━━━━━━━━\u001b[0m\u001b[37m\u001b[0m \u001b[1m9s\u001b[0m 481ms/step - accuracy: 0.8130 - loss: 0.7401 - val_accuracy: 0.6889 - val_loss: 0.9764\n",
      "Epoch 75/130\n",
      "\u001b[1m19/19\u001b[0m \u001b[32m━━━━━━━━━━━━━━━━━━━━\u001b[0m\u001b[37m\u001b[0m \u001b[1m9s\u001b[0m 485ms/step - accuracy: 0.8066 - loss: 0.8019 - val_accuracy: 0.6889 - val_loss: 0.9762\n",
      "Epoch 76/130\n",
      "\u001b[1m19/19\u001b[0m \u001b[32m━━━━━━━━━━━━━━━━━━━━\u001b[0m\u001b[37m\u001b[0m \u001b[1m9s\u001b[0m 476ms/step - accuracy: 0.7720 - loss: 0.7751 - val_accuracy: 0.7000 - val_loss: 0.9670\n",
      "Epoch 77/130\n",
      "\u001b[1m19/19\u001b[0m \u001b[32m━━━━━━━━━━━━━━━━━━━━\u001b[0m\u001b[37m\u001b[0m \u001b[1m9s\u001b[0m 485ms/step - accuracy: 0.7860 - loss: 0.7951 - val_accuracy: 0.7111 - val_loss: 0.9209\n",
      "Epoch 78/130\n",
      "\u001b[1m19/19\u001b[0m \u001b[32m━━━━━━━━━━━━━━━━━━━━\u001b[0m\u001b[37m\u001b[0m \u001b[1m9s\u001b[0m 484ms/step - accuracy: 0.8063 - loss: 0.7424 - val_accuracy: 0.7000 - val_loss: 0.9340\n",
      "Epoch 79/130\n",
      "\u001b[1m19/19\u001b[0m \u001b[32m━━━━━━━━━━━━━━━━━━━━\u001b[0m\u001b[37m\u001b[0m \u001b[1m9s\u001b[0m 487ms/step - accuracy: 0.8079 - loss: 0.7480 - val_accuracy: 0.7000 - val_loss: 0.9963\n",
      "Epoch 80/130\n",
      "\u001b[1m19/19\u001b[0m \u001b[32m━━━━━━━━━━━━━━━━━━━━\u001b[0m\u001b[37m\u001b[0m \u001b[1m9s\u001b[0m 479ms/step - accuracy: 0.8304 - loss: 0.7084 - val_accuracy: 0.6889 - val_loss: 0.9430\n",
      "Epoch 81/130\n",
      "\u001b[1m19/19\u001b[0m \u001b[32m━━━━━━━━━━━━━━━━━━━━\u001b[0m\u001b[37m\u001b[0m \u001b[1m9s\u001b[0m 476ms/step - accuracy: 0.7910 - loss: 0.7903 - val_accuracy: 0.6556 - val_loss: 1.0496\n",
      "Epoch 82/130\n",
      "\u001b[1m19/19\u001b[0m \u001b[32m━━━━━━━━━━━━━━━━━━━━\u001b[0m\u001b[37m\u001b[0m \u001b[1m9s\u001b[0m 483ms/step - accuracy: 0.7929 - loss: 0.8015 - val_accuracy: 0.7444 - val_loss: 0.9684\n",
      "Epoch 83/130\n",
      "\u001b[1m19/19\u001b[0m \u001b[32m━━━━━━━━━━━━━━━━━━━━\u001b[0m\u001b[37m\u001b[0m \u001b[1m9s\u001b[0m 486ms/step - accuracy: 0.8344 - loss: 0.7480 - val_accuracy: 0.7000 - val_loss: 0.9298\n",
      "Epoch 84/130\n",
      "\u001b[1m19/19\u001b[0m \u001b[32m━━━━━━━━━━━━━━━━━━━━\u001b[0m\u001b[37m\u001b[0m \u001b[1m9s\u001b[0m 477ms/step - accuracy: 0.8233 - loss: 0.7128 - val_accuracy: 0.7111 - val_loss: 0.8958\n",
      "Epoch 85/130\n",
      "\u001b[1m19/19\u001b[0m \u001b[32m━━━━━━━━━━━━━━━━━━━━\u001b[0m\u001b[37m\u001b[0m \u001b[1m9s\u001b[0m 488ms/step - accuracy: 0.8033 - loss: 0.7624 - val_accuracy: 0.7111 - val_loss: 0.9795\n",
      "Epoch 86/130\n",
      "\u001b[1m19/19\u001b[0m \u001b[32m━━━━━━━━━━━━━━━━━━━━\u001b[0m\u001b[37m\u001b[0m \u001b[1m9s\u001b[0m 478ms/step - accuracy: 0.8097 - loss: 0.7792 - val_accuracy: 0.7556 - val_loss: 0.9065\n",
      "Epoch 87/130\n",
      "\u001b[1m19/19\u001b[0m \u001b[32m━━━━━━━━━━━━━━━━━━━━\u001b[0m\u001b[37m\u001b[0m \u001b[1m9s\u001b[0m 495ms/step - accuracy: 0.8464 - loss: 0.6950 - val_accuracy: 0.7444 - val_loss: 0.9394\n",
      "Epoch 88/130\n",
      "\u001b[1m19/19\u001b[0m \u001b[32m━━━━━━━━━━━━━━━━━━━━\u001b[0m\u001b[37m\u001b[0m \u001b[1m9s\u001b[0m 482ms/step - accuracy: 0.8007 - loss: 0.7487 - val_accuracy: 0.7444 - val_loss: 0.9191\n",
      "Epoch 89/130\n",
      "\u001b[1m19/19\u001b[0m \u001b[32m━━━━━━━━━━━━━━━━━━━━\u001b[0m\u001b[37m\u001b[0m \u001b[1m9s\u001b[0m 476ms/step - accuracy: 0.7994 - loss: 0.7656 - val_accuracy: 0.7444 - val_loss: 0.8784\n",
      "Epoch 90/130\n",
      "\u001b[1m19/19\u001b[0m \u001b[32m━━━━━━━━━━━━━━━━━━━━\u001b[0m\u001b[37m\u001b[0m \u001b[1m9s\u001b[0m 491ms/step - accuracy: 0.8091 - loss: 0.7402 - val_accuracy: 0.7111 - val_loss: 0.9085\n",
      "Epoch 91/130\n",
      "\u001b[1m19/19\u001b[0m \u001b[32m━━━━━━━━━━━━━━━━━━━━\u001b[0m\u001b[37m\u001b[0m \u001b[1m9s\u001b[0m 497ms/step - accuracy: 0.8226 - loss: 0.7303 - val_accuracy: 0.7111 - val_loss: 0.9086\n",
      "Epoch 92/130\n",
      "\u001b[1m19/19\u001b[0m \u001b[32m━━━━━━━━━━━━━━━━━━━━\u001b[0m\u001b[37m\u001b[0m \u001b[1m9s\u001b[0m 492ms/step - accuracy: 0.8056 - loss: 0.7521 - val_accuracy: 0.7333 - val_loss: 0.9099\n",
      "Epoch 93/130\n",
      "\u001b[1m19/19\u001b[0m \u001b[32m━━━━━━━━━━━━━━━━━━━━\u001b[0m\u001b[37m\u001b[0m \u001b[1m9s\u001b[0m 489ms/step - accuracy: 0.8273 - loss: 0.7121 - val_accuracy: 0.7111 - val_loss: 0.9649\n",
      "Epoch 94/130\n",
      "\u001b[1m19/19\u001b[0m \u001b[32m━━━━━━━━━━━━━━━━━━━━\u001b[0m\u001b[37m\u001b[0m \u001b[1m10s\u001b[0m 502ms/step - accuracy: 0.7984 - loss: 0.7541 - val_accuracy: 0.7222 - val_loss: 0.8961\n",
      "Epoch 95/130\n",
      "\u001b[1m19/19\u001b[0m \u001b[32m━━━━━━━━━━━━━━━━━━━━\u001b[0m\u001b[37m\u001b[0m \u001b[1m9s\u001b[0m 484ms/step - accuracy: 0.8214 - loss: 0.7384 - val_accuracy: 0.7111 - val_loss: 0.9005\n",
      "Epoch 96/130\n",
      "\u001b[1m19/19\u001b[0m \u001b[32m━━━━━━━━━━━━━━━━━━━━\u001b[0m\u001b[37m\u001b[0m \u001b[1m9s\u001b[0m 496ms/step - accuracy: 0.8418 - loss: 0.6666 - val_accuracy: 0.6556 - val_loss: 1.1021\n",
      "Epoch 97/130\n",
      "\u001b[1m19/19\u001b[0m \u001b[32m━━━━━━━━━━━━━━━━━━━━\u001b[0m\u001b[37m\u001b[0m \u001b[1m9s\u001b[0m 488ms/step - accuracy: 0.8095 - loss: 0.7297 - val_accuracy: 0.7556 - val_loss: 0.9055\n",
      "Epoch 98/130\n",
      "\u001b[1m19/19\u001b[0m \u001b[32m━━━━━━━━━━━━━━━━━━━━\u001b[0m\u001b[37m\u001b[0m \u001b[1m9s\u001b[0m 486ms/step - accuracy: 0.8269 - loss: 0.7068 - val_accuracy: 0.7556 - val_loss: 0.9155\n",
      "Epoch 99/130\n",
      "\u001b[1m19/19\u001b[0m \u001b[32m━━━━━━━━━━━━━━━━━━━━\u001b[0m\u001b[37m\u001b[0m \u001b[1m9s\u001b[0m 487ms/step - accuracy: 0.8242 - loss: 0.6824 - val_accuracy: 0.7111 - val_loss: 0.9267\n",
      "Results saved to model_results_dynamic.xlsx and learning curves saved to learning_curves.png\n"
     ]
    }
   ],
   "source": [
    "import tensorflow as tf\n",
    "from tensorflow.keras.models import Sequential\n",
    "from tensorflow.keras.layers import Conv2D, MaxPooling2D, Flatten, Dense, Dropout\n",
    "from tensorflow.keras.regularizers import l2\n",
    "from tensorflow.keras.optimizers import Adam\n",
    "from tensorflow.keras.callbacks import EarlyStopping\n",
    "import pandas as pd\n",
    "import matplotlib.pyplot as plt\n",
    "import os\n",
    "\n",
    "# Define the model\n",
    "model = Sequential()\n",
    "model.add(Conv2D(16, (3, 3), activation='relu', input_shape=(240, 240, 3), padding='same', kernel_regularizer=l2(0.005)))\n",
    "model.add(MaxPooling2D((2, 2)))\n",
    "model.add(Conv2D(32, (4, 4), activation='relu', padding='same', kernel_regularizer=l2(0.005)))\n",
    "model.add(MaxPooling2D((4, 4)))\n",
    "model.add(Conv2D(64, (5, 5), activation='relu', padding='same', kernel_regularizer=l2(0.005)))\n",
    "model.add(MaxPooling2D((5, 5)))\n",
    "model.add(Dropout(0.3))\n",
    "model.add(Flatten())\n",
    "model.add(Dense(128, activation='relu',kernel_regularizer=l2(0.005)))\n",
    "model.add(Dropout(0.3))\n",
    "model.add(Dense(3, activation='softmax'))\n",
    "\n",
    "# Compile the model\n",
    "optimizer = Adam(learning_rate=0.0002)\n",
    "model.compile(optimizer=optimizer, loss='categorical_crossentropy', metrics=['accuracy'])\n",
    "\n",
    "# Define early stopping\n",
    "early_stop = EarlyStopping(monitor='val_loss', patience=10, restore_best_weights=True)\n",
    "\n",
    "# Display model summary\n",
    "model.summary()\n",
    "\n",
    "# Assuming train_data_gen and validate_data_gen are defined\n",
    "# Train the model\n",
    "max_epochs = 130\n",
    "history = model.fit(\n",
    "    train_data_gen,\n",
    "    epochs=max_epochs,\n",
    "    validation_data=validate_data_gen,\n",
    "    callbacks=[early_stop]\n",
    ")\n",
    "\n",
    "# Dynamically extract hyperparameters\n",
    "hyperparameters = {}\n",
    "\n",
    "# Optimizer details\n",
    "hyperparameters['Optimizer'] = optimizer.__class__.__name__\n",
    "hyperparameters['Learning Rate'] = optimizer.learning_rate.numpy()\n",
    "\n",
    "# Model compilation details\n",
    "hyperparameters['Loss Function'] = model.loss\n",
    "hyperparameters['Metrics'] = ', '.join(model.metrics_names)\n",
    "\n",
    "# Training settings\n",
    "hyperparameters['Max Epochs'] = max_epochs\n",
    "hyperparameters['Early Stopping Patience'] = early_stop.patience\n",
    "hyperparameters['Input Shape'] = str(model.input_shape[1:])\n",
    "\n",
    "# Extract layer configurations\n",
    "conv_layers = []\n",
    "dense_layers = []\n",
    "dropout_rates = []\n",
    "for layer in model.layers:\n",
    "    if isinstance(layer, Conv2D):\n",
    "        conv_layers.append(f\"[{layer.filters}, {layer.kernel_size}]\")\n",
    "    elif isinstance(layer, Dense):\n",
    "        dense_layers.append(layer.units)\n",
    "    elif isinstance(layer, Dropout):\n",
    "        dropout_rates.append(layer.rate)\n",
    "\n",
    "hyperparameters['Conv2D Layers'] = str(conv_layers)\n",
    "hyperparameters['Dense Layers'] = str(dense_layers)\n",
    "hyperparameters['Dropout Rates'] = str(dropout_rates)\n",
    "\n",
    "# Convert hyperparameters to DataFrame\n",
    "hyperparam_df = pd.DataFrame([hyperparameters])\n",
    "\n",
    "# Extract training history\n",
    "history_df = pd.DataFrame(history.history)\n",
    "\n",
    "# Save to Excel\n",
    "excel_file = 'model_results_dynamic.xlsx'\n",
    "with pd.ExcelWriter(excel_file, engine='openpyxl') as writer:\n",
    "    hyperparam_df.to_excel(writer, sheet_name='Hyperparameters', index=False)\n",
    "    history_df.to_excel(writer, sheet_name='Training_History', index=True)\n",
    "\n",
    "# Plot learning curves\n",
    "plt.figure(figsize=(12, 4))\n",
    "\n",
    "# Plot loss\n",
    "plt.subplot(1, 2, 1)\n",
    "plt.plot(history.history['loss'], label='Training Loss')\n",
    "plt.plot(history.history['val_loss'], label='Validation Loss')\n",
    "plt.title('Loss Over Epochs')\n",
    "plt.xlabel('Epoch')\n",
    "plt.ylabel('Loss')\n",
    "plt.legend()\n",
    "plt.grid(True)\n",
    "\n",
    "# Plot accuracy\n",
    "plt.subplot(1, 2, 2)\n",
    "plt.plot(history.history['accuracy'], label='Training Accuracy')\n",
    "plt.plot(history.history['val_accuracy'], label='Validation Accuracy')\n",
    "plt.title('Accuracy Over Epochs')\n",
    "plt.xlabel('Epoch')\n",
    "plt.ylabel('Accuracy')\n",
    "plt.legend()\n",
    "plt.grid(True)\n",
    "\n",
    "# Save the plot\n",
    "plot_file = 'learning_curves.png'\n",
    "plt.savefig(plot_file)\n",
    "plt.close()\n",
    "\n",
    "# Append a note about the plot in the Excel file\n",
    "plot_note = pd.DataFrame({'Note': [f'Learning curves saved as {plot_file}']})\n",
    "with pd.ExcelWriter(excel_file, engine='openpyxl', mode='a') as writer:\n",
    "    plot_note.to_excel(writer, sheet_name='Notes', index=False)\n",
    "\n",
    "\n",
    "\n",
    "print(f\"Results saved to {excel_file} and learning curves saved to {plot_file}\")"
   ]
  },
  {
   "cell_type": "markdown",
   "metadata": {
    "id": "88SkzZrkMc8P"
   },
   "source": [
    "##Visualizing training"
   ]
  },
  {
   "cell_type": "code",
   "execution_count": 58,
   "metadata": {
    "colab": {
     "base_uri": "https://localhost:8080/",
     "height": 927
    },
    "id": "x7I-wDVoIEVR",
    "outputId": "f5552085-d51c-4395-c7ae-720afe079197"
   },
   "outputs": [
    {
     "data": {
      "image/png": "[encoded data removed]",
      "text/plain": [
       "<Figure size 640x480 with 1 Axes>"
      ]
     },
     "metadata": {},
     "output_type": "display_data"
    },
    {
     "data": {
      "image/png": "[encoded data removed]",
      "text/plain": [
       "<Figure size 640x480 with 1 Axes>"
      ]
     },
     "metadata": {},
     "output_type": "display_data"
    }
   ],
   "source": [
    "#visualizing training process\n",
    "import matplotlib.pyplot as plt\n",
    "\n",
    "# Accuracy 視覺化\n",
    "plt.plot(history.history['accuracy'], label='accuracy')\n",
    "plt.plot(history.history['val_accuracy'], label='val_accuracy')\n",
    "plt.title('Accuracy Change')\n",
    "plt.xlabel('Epoch')\n",
    "plt.ylabel('Accuracy')\n",
    "plt.legend()\n",
    "plt.grid(True)\n",
    "plt.show()\n",
    "\n",
    "# Loss 視覺化\n",
    "plt.plot(history.history['loss'], label='loss')\n",
    "plt.plot(history.history['val_loss'], label='val_loss')\n",
    "plt.title('Loss Change')\n",
    "plt.xlabel('Epoch')\n",
    "plt.ylabel('Loss')\n",
    "plt.legend()\n",
    "plt.grid(True)\n",
    "plt.show()"
   ]
  },
  {
   "cell_type": "markdown",
   "metadata": {
    "id": "Kc6NRb8TMoW9"
   },
   "source": [
    "##Save model & test loading"
   ]
  },
  {
   "cell_type": "code",
   "execution_count": 59,
   "metadata": {
    "colab": {
     "base_uri": "https://localhost:8080/"
    },
    "id": "GhzZBAX0rCCv",
    "outputId": "944747d7-180d-4825-d0b3-4b1d358f597d"
   },
   "outputs": [
    {
     "name": "stderr",
     "output_type": "stream",
     "text": [
      "WARNING:absl:You are saving your model as an HDF5 file via `model.save()` or `keras.saving.save_model(model)`. This file format is considered legacy. We recommend using instead the native Keras format, e.g. `model.save('my_model.keras')` or `keras.saving.save_model(model, 'my_model.keras')`. \n"
     ]
    }
   ],
   "source": [
    "model.save('13314481_best_model_.h5')"
   ]
  },
  {
   "cell_type": "code",
   "execution_count": 60,
   "metadata": {
    "colab": {
     "base_uri": "https://localhost:8080/"
    },
    "id": "owpZxzrGv9Zf",
    "outputId": "8c6db8b8-2c53-48d7-85dd-e1d24e2d81b2"
   },
   "outputs": [
    {
     "name": "stderr",
     "output_type": "stream",
     "text": [
      "WARNING:absl:Compiled the loaded model, but the compiled metrics have yet to be built. `model.compile_metrics` will be empty until you train or evaluate the model.\n"
     ]
    }
   ],
   "source": [
    "from tensorflow.keras.models import load_model\n",
    "loaded_model = load_model('13314481_best_model_.h5')"
   ]
  },
  {
   "cell_type": "markdown",
   "metadata": {
    "id": "8szqk_I_xmfq"
   },
   "source": [
    "#The following block is for loading and testing the model\n",
    "\n",
    "\n",
    "\n",
    "\n",
    "\n",
    "\n",
    "\n",
    "\n"
   ]
  },
  {
   "cell_type": "code",
   "execution_count": 61,
   "metadata": {
    "colab": {
     "base_uri": "https://localhost:8080/"
    },
    "id": "RasbpEE3xF2I",
    "outputId": "455ce5dd-1d36-441e-eb17-bbb2f0b1d2b9"
   },
   "outputs": [
    {
     "name": "stderr",
     "output_type": "stream",
     "text": [
      "WARNING:absl:Compiled the loaded model, but the compiled metrics have yet to be built. `model.compile_metrics` will be empty until you train or evaluate the model.\n"
     ]
    },
    {
     "name": "stdout",
     "output_type": "stream",
     "text": [
      "Found 90 images belonging to 3 classes.\n",
      "\u001b[1m3/3\u001b[0m \u001b[32m━━━━━━━━━━━━━━━━━━━━\u001b[0m\u001b[37m\u001b[0m \u001b[1m2s\u001b[0m 321ms/step - accuracy: 0.7707 - loss: 0.8655\n",
      "\n",
      "Validation Accuracy: 74.44%\n"
     ]
    }
   ],
   "source": [
    "import tensorflow as tf\n",
    "from tensorflow.keras.models import load_model\n",
    "from tensorflow.keras.preprocessing.image import ImageDataGenerator\n",
    "import pathlib\n",
    "\n",
    "\n",
    "model = load_model('13314481_best_model_.h5') # load model\n",
    "\n",
    "\n",
    "data_dir = pathlib.Path('/content/drive/MyDrive/Nike_Adidas_converse_Shoes_image_dataset/validate') #set the path of the dataset\n",
    "image_size = (240, 240)\n",
    "batch_size = 32\n",
    "\n",
    "# create dataloader as the input for the model\n",
    "datagen = ImageDataGenerator(rescale=1./255)\n",
    "validate_data_gen = datagen.flow_from_directory(\n",
    "    data_dir,\n",
    "    target_size=image_size,\n",
    "    batch_size=batch_size,\n",
    "    class_mode='categorical',\n",
    "    shuffle=False\n",
    ")\n",
    "\n",
    "# evaluate model\n",
    "loss, accuracy = model.evaluate(validate_data_gen)\n",
    "print(f\"\\nValidation Accuracy: {accuracy*100:.2f}%\")"
   ]
  }
 ],
 "metadata": {
  "accelerator": "GPU",
  "colab": {
   "gpuType": "A100",
   "provenance": []
  },
  "kernelspec": {
   "display_name": "Python 3",
   "name": "python3"
  },
  "language_info": {
   "name": "python"
  }
 },
 "nbformat": 4,
 "nbformat_minor": 0
}
